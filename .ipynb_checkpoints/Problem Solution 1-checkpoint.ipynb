{
 "cells": [
  {
   "cell_type": "markdown",
   "id": "dea459c6",
   "metadata": {},
   "source": [
    "# Sum Natural Number"
   ]
  },
  {
   "cell_type": "markdown",
   "id": "f4f1f78c",
   "metadata": {},
   "source": [
    "Description\n",
    "\n",
    "Given two randomly chosen natural numbers N and M, Print the sum of all natural numbers greater than or equal to N and less than or equal to M.\n",
    "\n",
    "As input, random natural numbers N and M are given in the first line, separated by a space. (1≤N≤M≤2⁶⁴)\n",
    "\n",
    "-\n",
    "\n",
    "임의의 자연수 N, M에 대해, N보다 크거나 같고 M보다 작거나 같은 모든 자연수의 합을 출력하시오.\n",
    "\n",
    "입력으로는 첫째 줄에 임의의 자연수 N과 M이 공백으로 구분하여 주어진다. (1≤N≤M≤2⁶⁴)\n",
    "\n",
    "\n",
    "Input\n",
    "Random natural numbers N and M are given in the first line, separated by a space.\n",
    "\n",
    "-\n",
    "\n",
    "첫째 줄에 임의의 자연수 N과 M이 공백으로 구분하여 주어진다.\n",
    "\n",
    "\n",
    "Output\n",
    "Print the sum of all natural numbers greater than or equal to N and less than or equal to M.\n",
    "\n",
    "-\n",
    "\n",
    "N보다 크거나 같고 M보다 작거나 같은 모든 자연수의 합을 출력한다.\n",
    "\n",
    "\n",
    "Sample Input 1 \n",
    "\n",
    "1 100\n",
    "Sample Output 1\n",
    "\n",
    "5050"
   ]
  },
  {
   "cell_type": "code",
   "execution_count": 15,
   "id": "086fc6b5",
   "metadata": {},
   "outputs": [
    {
     "name": "stdout",
     "output_type": "stream",
     "text": [
      "1 100\n",
      "5050\n",
      "This code takes 1.557394027709961\n"
     ]
    }
   ],
   "source": [
    "import time\n",
    "def sum_natural_number (N, M) :\n",
    "    return (M * (M + 1) // 2) - (N * (N - 1) // 2)\n",
    "\n",
    "start_time = time.time()\n",
    "N, M = input().split()\n",
    "N, M = int(N), int(M)\n",
    "end_time = time.time()\n",
    "print(sum_natural_number(N, M))\n",
    "print(f\"This code takes {end_time - start_time}\")\n",
    "\n"
   ]
  },
  {
   "cell_type": "markdown",
   "id": "0d0ebd6d",
   "metadata": {},
   "source": [
    "# Find minimum Value"
   ]
  },
  {
   "cell_type": "markdown",
   "id": "74161659",
   "metadata": {},
   "source": [
    "Find minimum value\n",
    "Description\n",
    "\n",
    "In Python, you can create a random number list using the seed() method and sample() method of the random module.The code given below creates a list of integers with N elements greater than or equal to MIN and less than MAX. However, make sure through repeated execution that random numbers are generated in a certain order according to the value of the specified SEED.\n",
    "\n",
    "importrandom\n",
    "SEED, MIN, MAX, N=2022,100,1000,10\n",
    "random.seed(SEED)\n",
    "S=random.sample(range(MIN, MAX), N)\n",
    "print(S)\n",
    "\n",
    "[644, 395, 553, 658, 417, 699, 162, 630, 902, 808]\n",
    "\n",
    "\n",
    "Given SEED, MIN, MAX, and N,\n",
    "\n",
    "print the smallest value and the index of the element with the smallest value in the generated list S.\n",
    "\n",
    "(1≤MIN<MAX≤10000,1≤N≤1000)\n",
    "\n",
    "-\n",
    "\n",
    "파이썬에서는 random 모듈의 seed() 함수와 sample() 함수를 이용하여 난수 리스트를 생성할 수 있다. 아래 코드는 MIN보다 크거나 같고, MAX보다 작은 N개의 원소를 가진 정수 리스트를 생성한다. 단, 지정한 SEED의 값에 따라 일정한 순서로 난수가 생성됨을 반복 실행을 통해 확인하라.\n",
    "\n",
    "\n",
    "\n",
    "importrandom\n",
    "SEED, MIN, MAX, N=2022,100,1000,10\n",
    "random.seed(SEED)\n",
    "S=random.sample(range(MIN, MAX), N)\n",
    "print(S)\n",
    "\n",
    "[644, 395, 553, 658, 417, 699, 162, 630, 902, 808]\n",
    "\n",
    "\n",
    "SEED, MIN, MAX, N이 주어졌을 때, 생성된 리스트 S에서 가장 작은 값과 가장 작은 값을 가진 원소의 인덱스를 출력하시오.\n",
    "\n",
    "(1≤MIN<MAX≤10000,1≤N≤1000)\n",
    "\n",
    "\n",
    "Input\n",
    "SEED, MIN, MAX, and N is given.\n",
    "\n",
    "SEED, MIN, MAX, N =1987,123,4567,89\n",
    "\n",
    "\n",
    "Output\n",
    "print the smallest value and the index of the element with the smallest value in the generated list S.\n",
    "\n",
    "-\n",
    "\n",
    "생성된 리스트 S에서 가장 작은 값과 가장 작은 값을 가진 원소의 인덱스를 출력한다.\n",
    "\n",
    "\n",
    "Sample Input 1 \n",
    "\n",
    "1987 123 4567 89\n",
    "Sample Output 1\n",
    "\n",
    "141 16"
   ]
  },
  {
   "cell_type": "code",
   "execution_count": 24,
   "id": "1dcbcd08",
   "metadata": {},
   "outputs": [
    {
     "name": "stdout",
     "output_type": "stream",
     "text": [
      "141 16\n"
     ]
    }
   ],
   "source": [
    "import random \n",
    "\n",
    "def minimun_and_index(S) :\n",
    "    index_value = S.index(min(S))\n",
    "    return index_value\n",
    "\n",
    "\n",
    "SEED, Min, Max, N = 1987,123,4567,89\n",
    "random.seed(SEED)\n",
    "S = random.sample(range(Min, Max), N)\n",
    "min_value = min(S)\n",
    "\n",
    "print(min_value, minimun_and_index(S))"
   ]
  },
  {
   "cell_type": "markdown",
   "id": "ed3e6280",
   "metadata": {},
   "source": [
    "# Sum of all divisors of N"
   ]
  },
  {
   "cell_type": "markdown",
   "id": "015b90d5",
   "metadata": {},
   "source": [
    "Sum of all divisors of N\n",
    "Description\n",
    "\n",
    "Given a positive integer N, print the sum of all divisors of positive integer input N.\n",
    "\n",
    "(1≤N≤2⁶⁴)\n",
    "\n",
    "-\n",
    "\n",
    "양의 정수 N이 주어질 때, N의 모든 약수의 합을 출력하시오.\n",
    "\n",
    "\n",
    "Input\n",
    "Positive integer N is given.(1≤N≤2⁶⁴)\n",
    "\n",
    "-\n",
    "\n",
    "양의 정수 N이 주어진다.(1≤N≤2⁶⁴)\n",
    "\n",
    "\n",
    "Output\n",
    "Print the sum of all divisors of positive integer input N.\n",
    "\n",
    "-\n",
    "\n",
    "N의 모든 약수의 합을 출력한다.\n",
    "\n",
    "\n",
    "Sample Input 1 \n",
    "\n",
    "1234567890\n",
    "Sample Output 1\n",
    "\n",
    "3211610688"
   ]
  },
  {
   "cell_type": "code",
   "execution_count": 35,
   "id": "030eadd1",
   "metadata": {},
   "outputs": [
    {
     "name": "stdout",
     "output_type": "stream",
     "text": [
      "1234567890\n",
      "3211610688\n"
     ]
    }
   ],
   "source": [
    "import time\n",
    "\n",
    "def sum_of_all_divisors (n) :\n",
    "    sqrtN = int(n**0.5)\n",
    "    result = 0\n",
    "    for i in range(1, sqrtN + 1) :\n",
    "        if n % i == 0 :\n",
    "            result+=i\n",
    "            if i != n // i :\n",
    "                result += n // i\n",
    "    return result \n",
    "n = int(input())\n",
    "print(sum_of_all_divisors(n))\n",
    "\n"
   ]
  },
  {
   "cell_type": "markdown",
   "id": "2b8c997f",
   "metadata": {},
   "source": [
    "# Find Prime numbers\n"
   ]
  },
  {
   "cell_type": "markdown",
   "id": "908d6c87",
   "metadata": {},
   "source": [
    "Find Prime numbers\n",
    "Description\n",
    "\n",
    "Given positive integers N and M, among the integers that are greater than or equal to N and less than or equal to M, print the five prime numbers with the largest values in descending order. If the number’s decimal is less than five, print all the corresponding decimals.(1≤N≤M≤2³²)\n",
    "\n",
    "-\n",
    "\n",
    "양의 정수 N과 M이 주어질 때, N보다 크거나 같고 M보다 작거나 같은 정수 중에서 가장 값이 큰 소수 다섯 개를 내림차순으로 출력하시오. 만약, 소수의 개수가 다섯 개보다 더 적으면 해당하는 모든 소수를 출력하시오.(1≤N≤M≤2³²)\n",
    "\n",
    "\n",
    "Input\n",
    "Positive integers N and M are given.\n",
    "\n",
    "(1≤N≤M≤2³²)\n",
    "\n",
    "-\n",
    "\n",
    "양의 정수 N과 M이 주어진다.\n",
    "\n",
    "(1≤N≤M≤2³²)\n",
    "\n",
    "\n",
    "Output\n",
    "Print the five prime numbers with the largest values in descending order. If the number’s decimal is less than five, print all the corresponding decimals.\n",
    "\n",
    "-\n",
    "\n",
    "N보다 크거나 같고 M보다 작거나 같은 정수 중에서 가장 값이 큰 소수 다섯 개를 내림차순으로 출력한다. 만약, 소수의 개수가 다섯 개보다 더 적으면 해당하는 모든 소수를 출력한다.\n",
    "\n",
    "\n",
    "Sample Input 1 \n",
    "\n",
    "2147483647 4294967295\n",
    "\n",
    "Sample Output 1\n",
    "\n",
    "4294967291 4294967279 4294967231 4294967197 4294967189"
   ]
  },
  {
   "cell_type": "code",
   "execution_count": 98,
   "id": "b81907dd",
   "metadata": {},
   "outputs": [
    {
     "name": "stdout",
     "output_type": "stream",
     "text": [
      "1 10\n",
      "7 5 3\n",
      "This code takes 0.00010085105895996094\n"
     ]
    }
   ],
   "source": [
    "import time \n",
    "\n",
    "def is_Prime(n) :\n",
    "    sqrtn = int(n**0.5)\n",
    "    if n <= 1 :\n",
    "        return False\n",
    "    for i in range(2, sqrtn + 1) :\n",
    "        if n % i == 0 :\n",
    "            return False\n",
    "    return True\n",
    "        \n",
    "def check_5_prime_decimal(n, m) :\n",
    "    largest_Prime = []\n",
    "    for i in range(m, n +1, -1) :\n",
    "        if is_Prime(i) :\n",
    "            largest_Prime.append(i)\n",
    "            if len(largest_Prime) == 5 :\n",
    "                break\n",
    "                \n",
    "    return largest_Prime;\n",
    "            \n",
    "            \n",
    "n, m = input().split()\n",
    "start_time = time.time()\n",
    "n, m = int(n), int(m)\n",
    "end_time = time.time()\n",
    "\n",
    "print(\" \".join(map(str,check_5_prime_decimal(n, m))))\n",
    "print(f\"This code takes {end_time - start_time}\")\n"
   ]
  },
  {
   "cell_type": "markdown",
   "id": "348415ff",
   "metadata": {},
   "source": [
    "# Odd Pyramid"
   ]
  },
  {
   "cell_type": "markdown",
   "id": "6c8dc10c",
   "metadata": {},
   "source": [
    "Odd Pyramid\n",
    "Description\n",
    "\n",
    "There are odd number pyramids with odd numbers arranged regularly as given below.\n",
    "\n",
    "1\n",
    "3 5\n",
    "7 9 11\n",
    "13 15 17 19\n",
    "21 23 25 27 29\n",
    "\n",
    "Given the height N(1≤N≤2³²)of an odd pyramid that follows the above rules, print the sum of all odd numbers in the pyramid.\n",
    "\n",
    "-\n",
    "\n",
    "아래와 같이 홀수가 규칙적으로 배열된 홀수 피라미드가 있다.\n",
    "\n",
    "1\n",
    "3 5\n",
    "7 9 11\n",
    "13 15 17 19\n",
    "21 23 25 27 29\n",
    "\n",
    "위와 같은 규칙을 따르는 홀수 피라미드의 높이 N(1≤N≤2³²)이 주어졌을 때, 피라미드에 존재하는 모든 홀수의 합을 출력하시오.\n",
    "\n",
    "\n",
    "Input\n",
    "The height N(1≤N≤2³²)of an odd pyramid is given.\n",
    "\n",
    "-\n",
    "\n",
    "홀수 피라미드의 높이 N(1≤N≤2³²)이 주어진다.\n",
    "\n",
    "\n",
    "Output\n",
    "Print the sum of all odd numbers in the pyramid.\n",
    "\n",
    "-\n",
    "\n",
    "피라미드에 존재하는 모든 홀수의 합을 출력한다.\n",
    "\n",
    "\n",
    "Sample Input 1 \n",
    "\n",
    "1234567\n",
    "\n",
    "Sample Output 1\n",
    "\n",
    "580763573142020329536784"
   ]
  },
  {
   "cell_type": "code",
   "execution_count": 99,
   "id": "444688a5",
   "metadata": {},
   "outputs": [
    {
     "name": "stdout",
     "output_type": "stream",
     "text": [
      "5\n",
      "True\n"
     ]
    }
   ],
   "source": [
    "def odd_num(n) :\n",
    "    for i in range(1, n + 1) :\n",
    "        if i % 2 == 1 : \n",
    "            return True\n",
    "    return False\n",
    "\n",
    "# def sum_odd(n) :\n",
    "#     cnt = 0\n",
    "#     for i in range(1, n + 1) :\n",
    "#         if odd_num(i) :\n",
    "#              cnt+=i\n",
    "#     return cnt\n",
    "\n",
    "n = int(input())\n",
    "print(odd_num(n))\n",
    "# print(sum_odd(n))\n"
   ]
  },
  {
   "cell_type": "markdown",
   "id": "32f547b4",
   "metadata": {},
   "source": [
    "# Find the sum of all divisors"
   ]
  },
  {
   "cell_type": "markdown",
   "id": "751fd192",
   "metadata": {},
   "source": [
    "Description\n",
    "\n",
    "When a natural number between 2 to 20 is given as input, write the code to find the sum of all divisors of the input number.\n",
    "\n",
    "-\n",
    "\n",
    "2부터 20 사이의 자연수가 입력으로 주어질 때, 입력된 숫자의 모든 약수의 합을 구하는 코드를 작성하라.\n",
    "\n",
    "\n",
    "Input\n",
    "A natural number between 2 to 20 is given.\n",
    "\n",
    "-\n",
    "\n",
    "2부터 20 사이의 자연수가 주어진다.\n",
    "\n",
    "\n",
    "Output\n",
    "Print thesum of all divisors of the input number.\n",
    "\n",
    "-\n",
    "\n",
    "입력된 숫자의 모든 약수의 합을 출력한다.\n",
    "\n",
    "\n",
    "Sample Input 1 \n",
    "\n",
    "Enter a number: 20\n",
    "\n",
    "Sample Output 1\n",
    "\n",
    "Sum of divisors: 42"
   ]
  },
  {
   "cell_type": "code",
   "execution_count": 110,
   "id": "4c13ae9a",
   "metadata": {},
   "outputs": [
    {
     "name": "stdout",
     "output_type": "stream",
     "text": [
      "20\n",
      "7\n"
     ]
    }
   ],
   "source": [
    "def sum_of_all_divisor (n) :\n",
    "    result = 0\n",
    "    sqrtN = int(n**0.5)\n",
    "    for i in range(1, sqrtN + 1) :\n",
    "        if n % i == 0 :\n",
    "            result+=i\n",
    "            if i != n // i :\n",
    "                result += n // i\n",
    "    return result \n",
    "\n",
    "n = int(input())\n",
    "print(sum_of_all_divisor(n))"
   ]
  },
  {
   "cell_type": "code",
   "execution_count": null,
   "id": "60cba2cf",
   "metadata": {},
   "outputs": [],
   "source": [
    "def is_Prime(a) :\n",
    "    sqrtn = int(a**0.5)\n",
    "    if a <= 1 :\n",
    "        return False\n",
    "    for i in range(2, sqrtn + 1) :\n",
    "        if a % i == 0 :\n",
    "            return False\n",
    "    return True\n",
    "\n",
    "def sum_of_all_prime (a, b) :\n",
    "    cnt = 0\n",
    "    for i in range(a, b + 1) :\n",
    "        if is_Prime(i) :\n",
    "            cnt += i\n",
    "    return cnt\n",
    "\n",
    "a, b = input().split()\n",
    "a, b = int(a), int(b)\n",
    "print(sum_of_all_prime(a, b))"
   ]
  },
  {
   "cell_type": "code",
   "execution_count": null,
   "id": "0a4e81b2",
   "metadata": {},
   "outputs": [],
   "source": []
  },
  {
   "cell_type": "code",
   "execution_count": null,
   "id": "d7db89cc",
   "metadata": {},
   "outputs": [],
   "source": []
  },
  {
   "cell_type": "code",
   "execution_count": null,
   "id": "caa17514",
   "metadata": {},
   "outputs": [],
   "source": []
  },
  {
   "cell_type": "code",
   "execution_count": null,
   "id": "b14ab8ac",
   "metadata": {},
   "outputs": [],
   "source": []
  },
  {
   "cell_type": "code",
   "execution_count": null,
   "id": "27d54cd4",
   "metadata": {},
   "outputs": [],
   "source": []
  },
  {
   "cell_type": "code",
   "execution_count": null,
   "id": "7a035dc1",
   "metadata": {},
   "outputs": [],
   "source": []
  },
  {
   "cell_type": "code",
   "execution_count": null,
   "id": "c33f3584",
   "metadata": {},
   "outputs": [],
   "source": []
  },
  {
   "cell_type": "code",
   "execution_count": null,
   "id": "a89b6310",
   "metadata": {},
   "outputs": [],
   "source": []
  },
  {
   "cell_type": "code",
   "execution_count": null,
   "id": "9802a1f5",
   "metadata": {},
   "outputs": [],
   "source": []
  },
  {
   "cell_type": "code",
   "execution_count": null,
   "id": "b70e67f8",
   "metadata": {},
   "outputs": [],
   "source": []
  },
  {
   "cell_type": "code",
   "execution_count": null,
   "id": "86f3e3a8",
   "metadata": {},
   "outputs": [],
   "source": []
  },
  {
   "cell_type": "code",
   "execution_count": null,
   "id": "7ea6c6fe",
   "metadata": {},
   "outputs": [],
   "source": []
  }
 ],
 "metadata": {
  "kernelspec": {
   "display_name": "Python 3 (ipykernel)",
   "language": "python",
   "name": "python3"
  },
  "language_info": {
   "codemirror_mode": {
    "name": "ipython",
    "version": 3
   },
   "file_extension": ".py",
   "mimetype": "text/x-python",
   "name": "python",
   "nbconvert_exporter": "python",
   "pygments_lexer": "ipython3",
   "version": "3.10.9"
  }
 },
 "nbformat": 4,
 "nbformat_minor": 5
}
